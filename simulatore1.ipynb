{
 "cells": [
  {
   "cell_type": "markdown",
   "metadata": {},
   "source": [
    "CASCATE DI INFORMAZIONE\n",
    "\n",
    "Devo simulare l'herding experiment.\n",
    "\n",
    "Variabili : \n",
    "- N numero partecipanti;\n",
    "- q probabilità che il segnale ricevuto sia corretto ( 0.5 < q <= 1)\n",
    "\n",
    "Estraggo coloreurna = 1 con probabilità 1/2, coloreurna = 0 con probabilità 1/2.\n",
    "\n",
    "Costruisco due vettori lunghi N.\n",
    "\n",
    "vettoresegnale: lungo N, contiene coloreurna (segnale corretto) con probabilità q oppure 1-coloreurna (segnale errato) con probabilità 1-q. \n",
    "\n",
    "vettorescelta: lungo N, contiene 1 (scelta rosso) o 0 (scelta blu). \n",
    "\n",
    "\n",
    "Si può rendere più complesso inserendo un'altra variabile: la probabilità che il giocatore ascolti il segnale o meno (gamma).\n"
   ]
  },
  {
   "cell_type": "code",
   "execution_count": null,
   "metadata": {},
   "outputs": [],
   "source": [
    "import random as rd\n",
    "import numpy as np\n",
    "import matplotlib.pyplot as plot\n",
    "\n",
    "#costruisco un vettore lungo 30 con numeri generati casualmente tra 3 e 1000\n",
    "numpartecipanti = np.random.rand(30) * 1000 +3\n",
    "numpartecipanti = np.array(numpartecipanti,dtype=int)\n",
    "\n",
    "for numcicli in range(0,100):\n",
    "\n",
    "    numcorretto = 0\n",
    "    numsbagliato = 0\n",
    "    #probabilità che il segnale ricevuto sia corretto\n",
    "    q = rd.uniform(0.5,1)\n",
    "    \n",
    "    #faccio un ciclo per fare più simulazioni modificando il numero di partecipanti all'esperimento\n",
    "    for N in numpartecipanti:\n",
    "        coloreurna = rd.randint(0,1)\n",
    "    \n",
    "        vettoresegnale = [] #vettore che contiene informazioni sulla pallina estratta da ogni giocatore\n",
    "        vettorescelta = [] #vettore che contiene la scelta di ogni giocatore\n",
    "\n",
    "        for i in range(0,N):\n",
    "            a =  rd.random()\n",
    "            if a <= q :\n",
    "                vettoresegnale.append(coloreurna)\n",
    "            else :\n",
    "                vettoresegnale.append(1 - coloreurna)\n",
    "\n",
    "        #i primi due giocatori veicolano informazione perfetta\n",
    "        vettorescelta = vettorescelta + [vettoresegnale[0],vettoresegnale[1]]\n",
    "\n",
    "        if vettorescelta[0] == vettorescelta[1]:\n",
    "            for i in range(0,N):\n",
    "                vettorescelta.append(vettorescelta[0])\n",
    "        else:\n",
    "            for n in range(0,N):\n",
    "                vettorescelta.append(vettoresegnale[3])\n",
    "\n",
    "        if vettorescelta[N-1] == coloreurna:\n",
    "            numcorretto+=1 #conta le volte in cui la cascata fornisce il risultato corretto\n",
    "        else:\n",
    "            numsbagliato+=1 #conta le volte in cui la cascata fornisce il risultato errato\n",
    "\n",
    "    #costruisco degli istogrammi, ognuno con un valore di q differente, che faccia vedere graficamente quante volte la cascata porta all'errore\n",
    "    classi = ['scelta corretta', 'scelta errata']\n",
    "    occorrenze = [numcorretto, numsbagliato]\n",
    "    plot.bar(classi, occorrenze)\n",
    "    plot.suptitle('Istogramma scelta corretta o errata con q='+str(q))\n",
    "    plot.show()\n",
    "\n",
    "    \n",
    "\n",
    "\n",
    "\n"
   ]
  },
  {
   "cell_type": "markdown",
   "metadata": {},
   "source": []
  }
 ],
 "metadata": {
  "kernelspec": {
   "display_name": "Python 3.9.7 64-bit",
   "language": "python",
   "name": "python3"
  },
  "language_info": {
   "codemirror_mode": {
    "name": "ipython",
    "version": 3
   },
   "file_extension": ".py",
   "mimetype": "text/x-python",
   "name": "python",
   "nbconvert_exporter": "python",
   "pygments_lexer": "ipython3",
   "version": "3.9.7"
  },
  "orig_nbformat": 4,
  "vscode": {
   "interpreter": {
    "hash": "aee8b7b246df8f9039afb4144a1f6fd8d2ca17a180786b69acc140d282b71a49"
   }
  }
 },
 "nbformat": 4,
 "nbformat_minor": 2
}
